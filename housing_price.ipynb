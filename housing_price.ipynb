{
 "cells": [
  {
   "cell_type": "code",
   "execution_count": 7,
   "id": "e401c9b4",
   "metadata": {},
   "outputs": [
    {
     "name": "stdout",
     "output_type": "stream",
     "text": [
      "           Suburb             Address  Rooms Type      Price Method  \\\n",
      "0      Abbotsford       68 Studley St      2    h        NaN     SS   \n",
      "1      Abbotsford        85 Turner St      2    h  1480000.0      S   \n",
      "2      Abbotsford     25 Bloomburg St      2    h  1035000.0      S   \n",
      "3      Abbotsford  18/659 Victoria St      3    u        NaN     VB   \n",
      "4      Abbotsford        5 Charles St      3    h  1465000.0     SP   \n",
      "...           ...                 ...    ...  ...        ...    ...   \n",
      "34852  Yarraville         13 Burns St      4    h  1480000.0     PI   \n",
      "34853  Yarraville       29A Murray St      2    h   888000.0     SP   \n",
      "34854  Yarraville      147A Severn St      2    t   705000.0      S   \n",
      "34855  Yarraville    12/37 Stephen St      3    h  1140000.0     SP   \n",
      "34856  Yarraville    3 Tarrengower St      2    h  1020000.0     PI   \n",
      "\n",
      "             SellerG        Date  Distance  Postcode  ...  Bathroom  Car  \\\n",
      "0             Jellis   3/09/2016       2.5    3067.0  ...       1.0  1.0   \n",
      "1             Biggin   3/12/2016       2.5    3067.0  ...       1.0  1.0   \n",
      "2             Biggin   4/02/2016       2.5    3067.0  ...       1.0  0.0   \n",
      "3             Rounds   4/02/2016       2.5    3067.0  ...       2.0  1.0   \n",
      "4             Biggin   4/03/2017       2.5    3067.0  ...       2.0  0.0   \n",
      "...              ...         ...       ...       ...  ...       ...  ...   \n",
      "34852            Jas  24/02/2018       6.3    3013.0  ...       1.0  3.0   \n",
      "34853        Sweeney  24/02/2018       6.3    3013.0  ...       2.0  1.0   \n",
      "34854            Jas  24/02/2018       6.3    3013.0  ...       1.0  2.0   \n",
      "34855  hockingstuart  24/02/2018       6.3    3013.0  ...       NaN  NaN   \n",
      "34856             RW  24/02/2018       6.3    3013.0  ...       1.0  0.0   \n",
      "\n",
      "       Landsize  BuildingArea  YearBuilt               CouncilArea Lattitude  \\\n",
      "0         126.0           NaN        NaN        Yarra City Council -37.80140   \n",
      "1         202.0           NaN        NaN        Yarra City Council -37.79960   \n",
      "2         156.0          79.0     1900.0        Yarra City Council -37.80790   \n",
      "3           0.0           NaN        NaN        Yarra City Council -37.81140   \n",
      "4         134.0         150.0     1900.0        Yarra City Council -37.80930   \n",
      "...         ...           ...        ...                       ...       ...   \n",
      "34852     593.0           NaN        NaN  Maribyrnong City Council -37.81053   \n",
      "34853      98.0         104.0     2018.0  Maribyrnong City Council -37.81551   \n",
      "34854     220.0         120.0     2000.0  Maribyrnong City Council -37.82286   \n",
      "34855       NaN           NaN        NaN  Maribyrnong City Council       NaN   \n",
      "34856     250.0         103.0     1930.0  Maribyrnong City Council -37.81810   \n",
      "\n",
      "       Longtitude             Regionname Propertycount  \n",
      "0       144.99580  Northern Metropolitan        4019.0  \n",
      "1       144.99840  Northern Metropolitan        4019.0  \n",
      "2       144.99340  Northern Metropolitan        4019.0  \n",
      "3       145.01160  Northern Metropolitan        4019.0  \n",
      "4       144.99440  Northern Metropolitan        4019.0  \n",
      "...           ...                    ...           ...  \n",
      "34852   144.88467   Western Metropolitan        6543.0  \n",
      "34853   144.88826   Western Metropolitan        6543.0  \n",
      "34854   144.87856   Western Metropolitan        6543.0  \n",
      "34855         NaN   Western Metropolitan        6543.0  \n",
      "34856   144.89351   Western Metropolitan        6543.0  \n",
      "\n",
      "[34857 rows x 21 columns]\n"
     ]
    }
   ],
   "source": [
    "\n",
    "import pandas as pd\n",
    "from sklearn.linear_model import LinearRegression\n",
    "df = pd.read_csv(\"housing.csv\")\n",
    "print(df)"
   ]
  },
  {
   "cell_type": "code",
   "execution_count": 8,
   "id": "3cd02864",
   "metadata": {},
   "outputs": [
    {
     "name": "stdout",
     "output_type": "stream",
     "text": [
      "           Suburb  Rooms Type      Price Method        SellerG  Distance  \\\n",
      "0      Abbotsford      2    h        NaN     SS         Jellis       2.5   \n",
      "1      Abbotsford      2    h  1480000.0      S         Biggin       2.5   \n",
      "2      Abbotsford      2    h  1035000.0      S         Biggin       2.5   \n",
      "3      Abbotsford      3    u        NaN     VB         Rounds       2.5   \n",
      "4      Abbotsford      3    h  1465000.0     SP         Biggin       2.5   \n",
      "...           ...    ...  ...        ...    ...            ...       ...   \n",
      "34852  Yarraville      4    h  1480000.0     PI            Jas       6.3   \n",
      "34853  Yarraville      2    h   888000.0     SP        Sweeney       6.3   \n",
      "34854  Yarraville      2    t   705000.0      S            Jas       6.3   \n",
      "34855  Yarraville      3    h  1140000.0     SP  hockingstuart       6.3   \n",
      "34856  Yarraville      2    h  1020000.0     PI             RW       6.3   \n",
      "\n",
      "       Bedroom2  Bathroom  Car  Landsize  BuildingArea  \\\n",
      "0           2.0       1.0  1.0     126.0           NaN   \n",
      "1           2.0       1.0  1.0     202.0           NaN   \n",
      "2           2.0       1.0  0.0     156.0          79.0   \n",
      "3           3.0       2.0  1.0       0.0           NaN   \n",
      "4           3.0       2.0  0.0     134.0         150.0   \n",
      "...         ...       ...  ...       ...           ...   \n",
      "34852       4.0       1.0  3.0     593.0           NaN   \n",
      "34853       2.0       2.0  1.0      98.0         104.0   \n",
      "34854       2.0       1.0  2.0     220.0         120.0   \n",
      "34855       NaN       NaN  NaN       NaN           NaN   \n",
      "34856       2.0       1.0  0.0     250.0         103.0   \n",
      "\n",
      "                    CouncilArea             Regionname  Propertycount  \n",
      "0            Yarra City Council  Northern Metropolitan         4019.0  \n",
      "1            Yarra City Council  Northern Metropolitan         4019.0  \n",
      "2            Yarra City Council  Northern Metropolitan         4019.0  \n",
      "3            Yarra City Council  Northern Metropolitan         4019.0  \n",
      "4            Yarra City Council  Northern Metropolitan         4019.0  \n",
      "...                         ...                    ...            ...  \n",
      "34852  Maribyrnong City Council   Western Metropolitan         6543.0  \n",
      "34853  Maribyrnong City Council   Western Metropolitan         6543.0  \n",
      "34854  Maribyrnong City Council   Western Metropolitan         6543.0  \n",
      "34855  Maribyrnong City Council   Western Metropolitan         6543.0  \n",
      "34856  Maribyrnong City Council   Western Metropolitan         6543.0  \n",
      "\n",
      "[34857 rows x 15 columns]\n"
     ]
    }
   ],
   "source": [
    "df = df.drop(columns = ['Longtitude','YearBuilt','Lattitude','Date','Postcode','Address'])\n",
    "print(df)"
   ]
  },
  {
   "cell_type": "code",
   "execution_count": 10,
   "id": "64e11ef1",
   "metadata": {},
   "outputs": [
    {
     "name": "stdout",
     "output_type": "stream",
     "text": [
      "           Suburb  Rooms Type      Price Method  SellerG  Distance  Bedroom2  \\\n",
      "2      Abbotsford      2    h  1035000.0      S   Biggin       2.5       2.0   \n",
      "4      Abbotsford      3    h  1465000.0     SP   Biggin       2.5       3.0   \n",
      "6      Abbotsford      4    h  1600000.0     VB   Nelson       2.5       3.0   \n",
      "11     Abbotsford      3    h  1876000.0      S   Nelson       2.5       4.0   \n",
      "14     Abbotsford      2    h  1636000.0      S   Nelson       2.5       2.0   \n",
      "...           ...    ...  ...        ...    ...      ...       ...       ...   \n",
      "34847     Wollert      3    h   500000.0     PI      Ray      25.5       3.0   \n",
      "34849     Wollert      3    h   570000.0     SP       RW      25.5       3.0   \n",
      "34853  Yarraville      2    h   888000.0     SP  Sweeney       6.3       2.0   \n",
      "34854  Yarraville      2    t   705000.0      S      Jas       6.3       2.0   \n",
      "34856  Yarraville      2    h  1020000.0     PI       RW       6.3       2.0   \n",
      "\n",
      "       Bathroom  Car  Landsize  BuildingArea               CouncilArea  \\\n",
      "2           1.0  0.0     156.0          79.0        Yarra City Council   \n",
      "4           2.0  0.0     134.0         150.0        Yarra City Council   \n",
      "6           1.0  2.0     120.0         142.0        Yarra City Council   \n",
      "11          2.0  0.0     245.0         210.0        Yarra City Council   \n",
      "14          1.0  2.0     256.0         107.0        Yarra City Council   \n",
      "...         ...  ...       ...           ...                       ...   \n",
      "34847       2.0  2.0     383.0         118.0   Whittlesea City Council   \n",
      "34849       2.0  2.0     404.0         158.0   Whittlesea City Council   \n",
      "34853       2.0  1.0      98.0         104.0  Maribyrnong City Council   \n",
      "34854       1.0  2.0     220.0         120.0  Maribyrnong City Council   \n",
      "34856       1.0  0.0     250.0         103.0  Maribyrnong City Council   \n",
      "\n",
      "                  Regionname  Propertycount  \n",
      "2      Northern Metropolitan         4019.0  \n",
      "4      Northern Metropolitan         4019.0  \n",
      "6      Northern Metropolitan         4019.0  \n",
      "11     Northern Metropolitan         4019.0  \n",
      "14     Northern Metropolitan         4019.0  \n",
      "...                      ...            ...  \n",
      "34847  Northern Metropolitan         2940.0  \n",
      "34849  Northern Metropolitan         2940.0  \n",
      "34853   Western Metropolitan         6543.0  \n",
      "34854   Western Metropolitan         6543.0  \n",
      "34856   Western Metropolitan         6543.0  \n",
      "\n",
      "[9244 rows x 15 columns]\n"
     ]
    }
   ],
   "source": [
    "df = df.dropna()\n",
    "print(df)"
   ]
  },
  {
   "cell_type": "code",
   "execution_count": 26,
   "id": "f243d1e1",
   "metadata": {},
   "outputs": [],
   "source": [
    "df = pd.get_dummies(df,dtype=int)\n",
    "x = df.drop(columns=['Price'])\n",
    "y = df['Price']\n"
   ]
  },
  {
   "cell_type": "code",
   "execution_count": 27,
   "id": "f9e42c87",
   "metadata": {},
   "outputs": [],
   "source": [
    "from sklearn.model_selection import train_test_split"
   ]
  },
  {
   "cell_type": "code",
   "execution_count": 28,
   "id": "80b9a30d",
   "metadata": {},
   "outputs": [
    {
     "name": "stdout",
     "output_type": "stream",
     "text": [
      "[1257375.37255859 1072986.57958984  334495.78173828 ... 2048392.03271484\n",
      "  768072.01806641 1331774.10498047]\n"
     ]
    }
   ],
   "source": [
    "x_train,x_test,y_train,y_test=train_test_split(x,y,test_size=0.15)\n",
    "model = LinearRegression()\n",
    "model.fit(x_train,y_train)\n",
    "ans = model.predict(x_test)\n",
    "print(ans)"
   ]
  },
  {
   "cell_type": "code",
   "execution_count": 32,
   "id": "94ca84e5",
   "metadata": {},
   "outputs": [
    {
     "name": "stdout",
     "output_type": "stream",
     "text": [
      "0.7375037581739724\n"
     ]
    }
   ],
   "source": [
    "score = model.score(x_train,y_train)\n",
    "print(score)"
   ]
  },
  {
   "cell_type": "code",
   "execution_count": 33,
   "id": "54ce28fd",
   "metadata": {},
   "outputs": [
    {
     "name": "stdout",
     "output_type": "stream",
     "text": [
      "-79725448884.12375\n"
     ]
    }
   ],
   "source": [
    "score = model.score(x_test,y_test)\n",
    "print(score)"
   ]
  },
  {
   "cell_type": "code",
   "execution_count": 36,
   "id": "c2604eb3",
   "metadata": {},
   "outputs": [
    {
     "name": "stderr",
     "output_type": "stream",
     "text": [
      "C:\\Users\\Kanishka\\anaconda3\\lib\\site-packages\\sklearn\\linear_model\\_coordinate_descent.py:631: ConvergenceWarning: Objective did not converge. You might want to increase the number of iterations, check the scale of the features or consider increasing regularisation. Duality gap: 5.101e+14, tolerance: 3.741e+14\n",
      "  model = cd_fast.enet_coordinate_descent(\n"
     ]
    },
    {
     "data": {
      "text/html": [
       "<style>#sk-container-id-1 {color: black;background-color: white;}#sk-container-id-1 pre{padding: 0;}#sk-container-id-1 div.sk-toggleable {background-color: white;}#sk-container-id-1 label.sk-toggleable__label {cursor: pointer;display: block;width: 100%;margin-bottom: 0;padding: 0.3em;box-sizing: border-box;text-align: center;}#sk-container-id-1 label.sk-toggleable__label-arrow:before {content: \"▸\";float: left;margin-right: 0.25em;color: #696969;}#sk-container-id-1 label.sk-toggleable__label-arrow:hover:before {color: black;}#sk-container-id-1 div.sk-estimator:hover label.sk-toggleable__label-arrow:before {color: black;}#sk-container-id-1 div.sk-toggleable__content {max-height: 0;max-width: 0;overflow: hidden;text-align: left;background-color: #f0f8ff;}#sk-container-id-1 div.sk-toggleable__content pre {margin: 0.2em;color: black;border-radius: 0.25em;background-color: #f0f8ff;}#sk-container-id-1 input.sk-toggleable__control:checked~div.sk-toggleable__content {max-height: 200px;max-width: 100%;overflow: auto;}#sk-container-id-1 input.sk-toggleable__control:checked~label.sk-toggleable__label-arrow:before {content: \"▾\";}#sk-container-id-1 div.sk-estimator input.sk-toggleable__control:checked~label.sk-toggleable__label {background-color: #d4ebff;}#sk-container-id-1 div.sk-label input.sk-toggleable__control:checked~label.sk-toggleable__label {background-color: #d4ebff;}#sk-container-id-1 input.sk-hidden--visually {border: 0;clip: rect(1px 1px 1px 1px);clip: rect(1px, 1px, 1px, 1px);height: 1px;margin: -1px;overflow: hidden;padding: 0;position: absolute;width: 1px;}#sk-container-id-1 div.sk-estimator {font-family: monospace;background-color: #f0f8ff;border: 1px dotted black;border-radius: 0.25em;box-sizing: border-box;margin-bottom: 0.5em;}#sk-container-id-1 div.sk-estimator:hover {background-color: #d4ebff;}#sk-container-id-1 div.sk-parallel-item::after {content: \"\";width: 100%;border-bottom: 1px solid gray;flex-grow: 1;}#sk-container-id-1 div.sk-label:hover label.sk-toggleable__label {background-color: #d4ebff;}#sk-container-id-1 div.sk-serial::before {content: \"\";position: absolute;border-left: 1px solid gray;box-sizing: border-box;top: 0;bottom: 0;left: 50%;z-index: 0;}#sk-container-id-1 div.sk-serial {display: flex;flex-direction: column;align-items: center;background-color: white;padding-right: 0.2em;padding-left: 0.2em;position: relative;}#sk-container-id-1 div.sk-item {position: relative;z-index: 1;}#sk-container-id-1 div.sk-parallel {display: flex;align-items: stretch;justify-content: center;background-color: white;position: relative;}#sk-container-id-1 div.sk-item::before, #sk-container-id-1 div.sk-parallel-item::before {content: \"\";position: absolute;border-left: 1px solid gray;box-sizing: border-box;top: 0;bottom: 0;left: 50%;z-index: -1;}#sk-container-id-1 div.sk-parallel-item {display: flex;flex-direction: column;z-index: 1;position: relative;background-color: white;}#sk-container-id-1 div.sk-parallel-item:first-child::after {align-self: flex-end;width: 50%;}#sk-container-id-1 div.sk-parallel-item:last-child::after {align-self: flex-start;width: 50%;}#sk-container-id-1 div.sk-parallel-item:only-child::after {width: 0;}#sk-container-id-1 div.sk-dashed-wrapped {border: 1px dashed gray;margin: 0 0.4em 0.5em 0.4em;box-sizing: border-box;padding-bottom: 0.4em;background-color: white;}#sk-container-id-1 div.sk-label label {font-family: monospace;font-weight: bold;display: inline-block;line-height: 1.2em;}#sk-container-id-1 div.sk-label-container {text-align: center;}#sk-container-id-1 div.sk-container {/* jupyter's `normalize.less` sets `[hidden] { display: none; }` but bootstrap.min.css set `[hidden] { display: none !important; }` so we also need the `!important` here to be able to override the default hidden behavior on the sphinx rendered scikit-learn.org. See: https://github.com/scikit-learn/scikit-learn/issues/21755 */display: inline-block !important;position: relative;}#sk-container-id-1 div.sk-text-repr-fallback {display: none;}</style><div id=\"sk-container-id-1\" class=\"sk-top-container\"><div class=\"sk-text-repr-fallback\"><pre>Lasso(alpha=25, max_iter=100, tol=0.1)</pre><b>In a Jupyter environment, please rerun this cell to show the HTML representation or trust the notebook. <br />On GitHub, the HTML representation is unable to render, please try loading this page with nbviewer.org.</b></div><div class=\"sk-container\" hidden><div class=\"sk-item\"><div class=\"sk-estimator sk-toggleable\"><input class=\"sk-toggleable__control sk-hidden--visually\" id=\"sk-estimator-id-1\" type=\"checkbox\" checked><label for=\"sk-estimator-id-1\" class=\"sk-toggleable__label sk-toggleable__label-arrow\">Lasso</label><div class=\"sk-toggleable__content\"><pre>Lasso(alpha=25, max_iter=100, tol=0.1)</pre></div></div></div></div></div>"
      ],
      "text/plain": [
       "Lasso(alpha=25, max_iter=100, tol=0.1)"
      ]
     },
     "execution_count": 36,
     "metadata": {},
     "output_type": "execute_result"
    }
   ],
   "source": [
    "from sklearn.linear_model import Lasso\n",
    "reg = Lasso(alpha=25,max_iter=100,tol=0.1)\n",
    "reg.fit(x_train,y_train)"
   ]
  },
  {
   "cell_type": "code",
   "execution_count": 37,
   "id": "9bc2e311",
   "metadata": {},
   "outputs": [
    {
     "name": "stdout",
     "output_type": "stream",
     "text": [
      "0.7359383155771985\n"
     ]
    }
   ],
   "source": [
    "score = reg.score(x_train,y_train)\n",
    "print(score)"
   ]
  },
  {
   "cell_type": "code",
   "execution_count": 38,
   "id": "d535b573",
   "metadata": {},
   "outputs": [
    {
     "name": "stdout",
     "output_type": "stream",
     "text": [
      "0.6556585048588233\n"
     ]
    }
   ],
   "source": [
    "score = reg.score(x_test,y_test)\n",
    "print(score)"
   ]
  },
  {
   "cell_type": "code",
   "execution_count": null,
   "id": "9e27a62c",
   "metadata": {},
   "outputs": [],
   "source": []
  }
 ],
 "metadata": {
  "kernelspec": {
   "display_name": "Python 3 (ipykernel)",
   "language": "python",
   "name": "python3"
  },
  "language_info": {
   "codemirror_mode": {
    "name": "ipython",
    "version": 3
   },
   "file_extension": ".py",
   "mimetype": "text/x-python",
   "name": "python",
   "nbconvert_exporter": "python",
   "pygments_lexer": "ipython3",
   "version": "3.10.9"
  }
 },
 "nbformat": 4,
 "nbformat_minor": 5
}
