{
 "cells": [
  {
   "cell_type": "code",
   "execution_count": 33,
   "id": "a79223a7",
   "metadata": {},
   "outputs": [
    {
     "name": "stdout",
     "output_type": "stream",
     "text": [
      "     Unnamed: 0      Zone           State         City  \\\n",
      "0             0  Northern           Delhi        Delhi   \n",
      "1             1  Northern           Delhi        Delhi   \n",
      "2             2  Northern           Delhi        Delhi   \n",
      "3             3  Northern           Delhi        Delhi   \n",
      "4             4  Northern           Delhi        Delhi   \n",
      "..          ...       ...             ...          ...   \n",
      "320         320   Western         Gujarat  Gandhinagar   \n",
      "321         321   Central   Uttar Pradesh         Agra   \n",
      "322         322   Central  Madhya Pradesh       Bhopal   \n",
      "323         323  Northern       Rajasthan       Jaipur   \n",
      "324         324  Northern       Rajasthan       Jaipur   \n",
      "\n",
      "                             Name          Type Establishment Year  \\\n",
      "0                      India Gate  War Memorial               1921   \n",
      "1                  Humayun's Tomb          Tomb               1572   \n",
      "2               Akshardham Temple        Temple               2005   \n",
      "3            Waste to Wonder Park    Theme Park               2019   \n",
      "4                   Jantar Mantar   Observatory               1724   \n",
      "..                            ...           ...                ...   \n",
      "320                    Akshardham        Temple               1992   \n",
      "321                     Agra Fort          Fort               1565   \n",
      "322  Madhya Pradesh Tribal Museum        Museum               2013   \n",
      "323                   City Palace        Palace               1727   \n",
      "324            Albert Hall Museum        Museum               1887   \n",
      "\n",
      "     time needed to visit in hrs  Google review rating  Entrance Fee in INR  \\\n",
      "0                            0.5                   4.6                    0   \n",
      "1                            2.0                   4.5                   30   \n",
      "2                            5.0                   4.6                   60   \n",
      "3                            2.0                   4.1                   50   \n",
      "4                            2.0                   4.2                   15   \n",
      "..                           ...                   ...                  ...   \n",
      "320                          3.0                   4.6                    0   \n",
      "321                          2.0                   4.5                   40   \n",
      "322                          2.0                   4.7                   10   \n",
      "323                          2.0                   4.4                  200   \n",
      "324                          2.0                   4.5                  200   \n",
      "\n",
      "    Airport with 50km Radius Weekly Off   Significance DSLR Allowed  \\\n",
      "0                        Yes       None     Historical          Yes   \n",
      "1                        Yes       None     Historical          Yes   \n",
      "2                        Yes       None      Religious           No   \n",
      "3                        Yes     Monday  Environmental          Yes   \n",
      "4                        Yes       None     Scientific          Yes   \n",
      "..                       ...        ...            ...          ...   \n",
      "320                      Yes     Monday      Religious           No   \n",
      "321                      Yes       None     Historical          Yes   \n",
      "322                      Yes     Monday       Cultural          Yes   \n",
      "323                      Yes       None     Historical          Yes   \n",
      "324                      Yes       None     Historical          Yes   \n",
      "\n",
      "     Number of google review in lakhs Best Time to visit  \n",
      "0                                2.60            Evening  \n",
      "1                                0.40          Afternoon  \n",
      "2                                0.40          Afternoon  \n",
      "3                                0.27            Evening  \n",
      "4                                0.31            Morning  \n",
      "..                                ...                ...  \n",
      "320                              0.18                All  \n",
      "321                              1.30          Afternoon  \n",
      "322                              0.15                All  \n",
      "323                              0.51            Morning  \n",
      "324                              0.63                All  \n",
      "\n",
      "[325 rows x 16 columns]\n"
     ]
    }
   ],
   "source": [
    "import pandas as pd\n",
    "from sklearn.linear_model import LinearRegression\n",
    "df = pd.read_csv(\"places.csv\")\n",
    "print(df)"
   ]
  },
  {
   "cell_type": "code",
   "execution_count": 34,
   "id": "b5345fcc",
   "metadata": {},
   "outputs": [
    {
     "name": "stdout",
     "output_type": "stream",
     "text": [
      "             Type  time needed to visit in hrs  Google review rating  \\\n",
      "0    War Memorial                          0.5                   4.6   \n",
      "1            Tomb                          2.0                   4.5   \n",
      "2          Temple                          5.0                   4.6   \n",
      "3      Theme Park                          2.0                   4.1   \n",
      "4     Observatory                          2.0                   4.2   \n",
      "..            ...                          ...                   ...   \n",
      "320        Temple                          3.0                   4.6   \n",
      "321          Fort                          2.0                   4.5   \n",
      "322        Museum                          2.0                   4.7   \n",
      "323        Palace                          2.0                   4.4   \n",
      "324        Museum                          2.0                   4.5   \n",
      "\n",
      "     Entrance Fee in INR  \n",
      "0                      0  \n",
      "1                     30  \n",
      "2                     60  \n",
      "3                     50  \n",
      "4                     15  \n",
      "..                   ...  \n",
      "320                    0  \n",
      "321                   40  \n",
      "322                   10  \n",
      "323                  200  \n",
      "324                  200  \n",
      "\n",
      "[325 rows x 4 columns]\n"
     ]
    }
   ],
   "source": [
    "df = df.drop(columns=['Unnamed: 0','Zone','State','City','Name','Establishment Year','Number of google review in lakhs' ,'Best Time to visit','Airport with 50km Radius' ,'Weekly Off','Significance','DSLR Allowed'])\n",
    "print(df)"
   ]
  },
  {
   "cell_type": "code",
   "execution_count": 35,
   "id": "f194ac84",
   "metadata": {},
   "outputs": [
    {
     "name": "stdout",
     "output_type": "stream",
     "text": [
      "            Type  time needed to visit in hrs  Google review rating  \\\n",
      "1           Tomb                          2.0                   4.5   \n",
      "2         Temple                          5.0                   4.6   \n",
      "3     Theme Park                          2.0                   4.1   \n",
      "4    Observatory                          2.0                   4.2   \n",
      "7           Fort                          2.0                   4.5   \n",
      "..           ...                          ...                   ...   \n",
      "318       Museum                          2.0                   4.4   \n",
      "321         Fort                          2.0                   4.5   \n",
      "322       Museum                          2.0                   4.7   \n",
      "323       Palace                          2.0                   4.4   \n",
      "324       Museum                          2.0                   4.5   \n",
      "\n",
      "     Entrance Fee in INR  \n",
      "1                     30  \n",
      "2                     60  \n",
      "3                     50  \n",
      "4                     15  \n",
      "7                     35  \n",
      "..                   ...  \n",
      "318                   50  \n",
      "321                   40  \n",
      "322                   10  \n",
      "323                  200  \n",
      "324                  200  \n",
      "\n",
      "[142 rows x 4 columns]\n"
     ]
    }
   ],
   "source": [
    "df = df[df['Entrance Fee in INR'] != 0]\n",
    "print(df)"
   ]
  },
  {
   "cell_type": "code",
   "execution_count": 43,
   "id": "205ea37c",
   "metadata": {},
   "outputs": [],
   "source": [
    "from sklearn.model_selection import train_test_split\n",
    "df = pd.get_dummies(df,dtype=int)\n",
    "x = df.drop(columns=['Entrance Fee in INR'])\n",
    "y = df['Entrance Fee in INR']"
   ]
  },
  {
   "cell_type": "code",
   "execution_count": 44,
   "id": "0769f547",
   "metadata": {},
   "outputs": [
    {
     "name": "stdout",
     "output_type": "stream",
     "text": [
      "[6.88658529e+14 5.76250000e+01 2.21782963e+15 7.49150000e+03\n",
      " 5.21250000e+01 2.77500000e+01 1.10125000e+02 4.08750000e+01\n",
      " 3.76250000e+01 4.51500000e+02 1.34875000e+02 2.89375000e+02\n",
      " 1.59750000e+02 3.02500000e+01 4.77500000e+01 1.34875000e+02\n",
      " 9.32625000e+02 4.56625000e+02 3.19625000e+02 4.77500000e+01\n",
      " 1.41250000e+01 1.90375000e+02]\n"
     ]
    }
   ],
   "source": [
    "x_train,x_test,y_train,y_test=train_test_split(x,y,test_size=0.15)\n",
    "model = LinearRegression()\n",
    "model.fit(x_train,y_train)\n",
    "ans = model.predict(x_test)\n",
    "print(ans)"
   ]
  },
  {
   "cell_type": "code",
   "execution_count": 45,
   "id": "99178bfc",
   "metadata": {},
   "outputs": [
    {
     "name": "stdout",
     "output_type": "stream",
     "text": [
      "0.8574001414325503\n"
     ]
    }
   ],
   "source": [
    "score = model.score(x_train,y_train)\n",
    "print(score)"
   ]
  },
  {
   "cell_type": "code",
   "execution_count": null,
   "id": "2012c298",
   "metadata": {},
   "outputs": [],
   "source": []
  }
 ],
 "metadata": {
  "kernelspec": {
   "display_name": "Python 3 (ipykernel)",
   "language": "python",
   "name": "python3"
  },
  "language_info": {
   "codemirror_mode": {
    "name": "ipython",
    "version": 3
   },
   "file_extension": ".py",
   "mimetype": "text/x-python",
   "name": "python",
   "nbconvert_exporter": "python",
   "pygments_lexer": "ipython3",
   "version": "3.10.9"
  }
 },
 "nbformat": 4,
 "nbformat_minor": 5
}
