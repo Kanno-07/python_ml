{
 "cells": [
  {
   "cell_type": "code",
   "execution_count": 2,
   "id": "10df69d0",
   "metadata": {},
   "outputs": [
    {
     "name": "stdout",
     "output_type": "stream",
     "text": [
      "                                            BROKERTITLE                TYPE  \\\n",
      "0           Brokered by Douglas Elliman  -111 Fifth Ave      Condo for sale   \n",
      "1                                   Brokered by Serhant      Condo for sale   \n",
      "2                                Brokered by Sowae Corp      House for sale   \n",
      "3                                   Brokered by COMPASS      Condo for sale   \n",
      "4     Brokered by Sotheby's International Realty - E...  Townhouse for sale   \n",
      "...                                                 ...                 ...   \n",
      "4796                                Brokered by COMPASS      Co-op for sale   \n",
      "4797                    Brokered by Mjr Real Estate Llc      Co-op for sale   \n",
      "4798      Brokered by Douglas Elliman - 575 Madison Ave      Co-op for sale   \n",
      "4799            Brokered by E Realty International Corp      Condo for sale   \n",
      "4800                 Brokered by Nyc Realty Brokers Llc      Co-op for sale   \n",
      "\n",
      "          PRICE  BEDS       BATH  PROPERTYSQFT  \\\n",
      "0        315000     2   2.000000   1400.000000   \n",
      "1     195000000     7  10.000000  17545.000000   \n",
      "2        260000     4   2.000000   2015.000000   \n",
      "3         69000     3   1.000000    445.000000   \n",
      "4      55000000     7   2.373861  14175.000000   \n",
      "...         ...   ...        ...           ...   \n",
      "4796     599000     1   1.000000   2184.207862   \n",
      "4797     245000     1   1.000000   2184.207862   \n",
      "4798    1275000     1   1.000000   2184.207862   \n",
      "4799     598125     2   1.000000    655.000000   \n",
      "4800     349000     1   1.000000    750.000000   \n",
      "\n",
      "                                                ADDRESS  \\\n",
      "0                                  2 E 55th St Unit 803   \n",
      "1     Central Park Tower Penthouse-217 W 57th New Yo...   \n",
      "2                                      620 Sinclair Ave   \n",
      "3                               2 E 55th St Unit 908W33   \n",
      "4                                           5 E 64th St   \n",
      "...                                                 ...   \n",
      "4796                               222 E 80th St Apt 3A   \n",
      "4797                                97-40 62 Dr Unit Lg   \n",
      "4798                          427 W 21st St Unit Garden   \n",
      "4799                           91-23 Corona Ave Unit 4G   \n",
      "4800                            460 Neptune Ave Apt 14O   \n",
      "\n",
      "                        STATE  \\\n",
      "0          New York, NY 10022   \n",
      "1          New York, NY 10019   \n",
      "2     Staten Island, NY 10312   \n",
      "3         Manhattan, NY 10022   \n",
      "4          New York, NY 10065   \n",
      "...                       ...   \n",
      "4796      Manhattan, NY 10075   \n",
      "4797      Rego Park, NY 11374   \n",
      "4798       New York, NY 10011   \n",
      "4799       Elmhurst, NY 11373   \n",
      "4800       Brooklyn, NY 11224   \n",
      "\n",
      "                                           MAIN_ADDRESS  \\\n",
      "0                2 E 55th St Unit 803New York, NY 10022   \n",
      "1     Central Park Tower Penthouse-217 W 57th New Yo...   \n",
      "2               620 Sinclair AveStaten Island, NY 10312   \n",
      "3            2 E 55th St Unit 908W33Manhattan, NY 10022   \n",
      "4                         5 E 64th StNew York, NY 10065   \n",
      "...                                                 ...   \n",
      "4796            222 E 80th St Apt 3AManhattan, NY 10075   \n",
      "4797             97-40 62 Dr Unit LgRego Park, NY 11374   \n",
      "4798        427 W 21st St Unit GardenNew York, NY 10011   \n",
      "4799         91-23 Corona Ave Unit 4GElmhurst, NY 11373   \n",
      "4800          460 Neptune Ave Apt 14OBrooklyn, NY 11224   \n",
      "\n",
      "     ADMINISTRATIVE_AREA_LEVEL_2         LOCALITY      SUBLOCALITY  \\\n",
      "0                New York County         New York        Manhattan   \n",
      "1                  United States         New York  New York County   \n",
      "2                  United States         New York  Richmond County   \n",
      "3                  United States         New York  New York County   \n",
      "4                  United States         New York  New York County   \n",
      "...                          ...              ...              ...   \n",
      "4796                    New York  New York County         New York   \n",
      "4797               United States         New York    Queens County   \n",
      "4798               United States         New York  New York County   \n",
      "4799                    New York    Queens County           Queens   \n",
      "4800                    New York     Kings County         Brooklyn   \n",
      "\n",
      "           STREET_NAME         LONG_NAME  \\\n",
      "0     East 55th Street   Regis Residence   \n",
      "1             New York  West 57th Street   \n",
      "2        Staten Island   Sinclair Avenue   \n",
      "3             New York  East 55th Street   \n",
      "4             New York  East 64th Street   \n",
      "...                ...               ...   \n",
      "4796         Manhattan               222   \n",
      "4797            Queens        62nd Drive   \n",
      "4798          New York  West 21st Street   \n",
      "4799          Flushing             91-23   \n",
      "4800      Coney Island               460   \n",
      "\n",
      "                                      FORMATTED_ADDRESS   LATITUDE  LONGITUDE  \n",
      "0     Regis Residence, 2 E 55th St #803, New York, N...  40.761255 -73.974483  \n",
      "1                217 W 57th St, New York, NY 10019, USA  40.766393 -73.980991  \n",
      "2        620 Sinclair Ave, Staten Island, NY 10312, USA  40.541805 -74.196109  \n",
      "3                  2 E 55th St, New York, NY 10022, USA  40.761398 -73.974613  \n",
      "4                  5 E 64th St, New York, NY 10065, USA  40.767224 -73.969856  \n",
      "...                                                 ...        ...        ...  \n",
      "4796         222 E 80th St #3a, New York, NY 10075, USA  40.774350 -73.955879  \n",
      "4797            97-40 62nd Dr, Rego Park, NY 11374, USA  40.732538 -73.860152  \n",
      "4798             427 W 21st St, New York, NY 10011, USA  40.745882 -74.003398  \n",
      "4799     91-23 Corona Ave. #4b, Flushing, NY 11373, USA  40.742770 -73.872752  \n",
      "4800      460 Neptune Ave #14a, Brooklyn, NY 11224, USA  40.579147 -73.970949  \n",
      "\n",
      "[4801 rows x 17 columns]\n"
     ]
    }
   ],
   "source": [
    "import pandas as pd\n",
    "from sklearn.linear_model import LogisticRegression\n",
    "from matplotlib import pyplot as plt\n",
    "\n",
    "df = pd.read_csv(\"ny_city.csv\")\n",
    "print(df)"
   ]
  },
  {
   "cell_type": "code",
   "execution_count": 3,
   "id": "a048d77b",
   "metadata": {},
   "outputs": [
    {
     "data": {
      "text/plain": [
       "17"
      ]
     },
     "execution_count": 3,
     "metadata": {},
     "output_type": "execute_result"
    }
   ],
   "source": [
    "df.shape[1]"
   ]
  },
  {
   "cell_type": "code",
   "execution_count": 4,
   "id": "8bd4c888",
   "metadata": {},
   "outputs": [
    {
     "data": {
      "text/plain": [
       "['BROKERTITLE',\n",
       " 'TYPE',\n",
       " 'PRICE',\n",
       " 'BEDS',\n",
       " 'BATH',\n",
       " 'PROPERTYSQFT',\n",
       " 'ADDRESS',\n",
       " 'STATE',\n",
       " 'MAIN_ADDRESS',\n",
       " 'ADMINISTRATIVE_AREA_LEVEL_2',\n",
       " 'LOCALITY',\n",
       " 'SUBLOCALITY',\n",
       " 'STREET_NAME',\n",
       " 'LONG_NAME',\n",
       " 'FORMATTED_ADDRESS',\n",
       " 'LATITUDE',\n",
       " 'LONGITUDE']"
      ]
     },
     "execution_count": 4,
     "metadata": {},
     "output_type": "execute_result"
    }
   ],
   "source": [
    "df.columns.tolist()"
   ]
  },
  {
   "cell_type": "code",
   "execution_count": 5,
   "id": "39cf93b8",
   "metadata": {},
   "outputs": [
    {
     "name": "stdout",
     "output_type": "stream",
     "text": [
      "          PRICE  BEDS       BATH  PROPERTYSQFT\n",
      "0        315000     2   2.000000   1400.000000\n",
      "1     195000000     7  10.000000  17545.000000\n",
      "2        260000     4   2.000000   2015.000000\n",
      "3         69000     3   1.000000    445.000000\n",
      "4      55000000     7   2.373861  14175.000000\n",
      "...         ...   ...        ...           ...\n",
      "4796     599000     1   1.000000   2184.207862\n",
      "4797     245000     1   1.000000   2184.207862\n",
      "4798    1275000     1   1.000000   2184.207862\n",
      "4799     598125     2   1.000000    655.000000\n",
      "4800     349000     1   1.000000    750.000000\n",
      "\n",
      "[4801 rows x 4 columns]\n"
     ]
    }
   ],
   "source": [
    "df = df.drop(columns=['MAIN_ADDRESS','FORMATTED_ADDRESS' ,'LATITUDE','LONGITUDE','ADDRESS','STATE','SUBLOCALITY','STREET_NAME',\n",
    " 'LONG_NAME','BROKERTITLE','TYPE','ADMINISTRATIVE_AREA_LEVEL_2','LOCALITY'])\n",
    "print(df)"
   ]
  },
  {
   "cell_type": "code",
   "execution_count": 6,
   "id": "d74b5544",
   "metadata": {},
   "outputs": [],
   "source": [
    "df = pd.get_dummies(df,dtype=int)\n",
    "x = df.drop(columns=['PRICE'])\n",
    "y = df['PRICE']"
   ]
  },
  {
   "cell_type": "code",
   "execution_count": 7,
   "id": "891e6de9",
   "metadata": {},
   "outputs": [
    {
     "name": "stderr",
     "output_type": "stream",
     "text": [
      "C:\\Users\\Kanishka\\anaconda3\\lib\\site-packages\\sklearn\\linear_model\\_logistic.py:458: ConvergenceWarning: lbfgs failed to converge (status=1):\n",
      "STOP: TOTAL NO. of ITERATIONS REACHED LIMIT.\n",
      "\n",
      "Increase the number of iterations (max_iter) or scale the data as shown in:\n",
      "    https://scikit-learn.org/stable/modules/preprocessing.html\n",
      "Please also refer to the documentation for alternative solver options:\n",
      "    https://scikit-learn.org/stable/modules/linear_model.html#logistic-regression\n",
      "  n_iter_i = _check_optimize_result(\n"
     ]
    },
    {
     "data": {
      "text/html": [
       "<style>#sk-container-id-1 {color: black;background-color: white;}#sk-container-id-1 pre{padding: 0;}#sk-container-id-1 div.sk-toggleable {background-color: white;}#sk-container-id-1 label.sk-toggleable__label {cursor: pointer;display: block;width: 100%;margin-bottom: 0;padding: 0.3em;box-sizing: border-box;text-align: center;}#sk-container-id-1 label.sk-toggleable__label-arrow:before {content: \"▸\";float: left;margin-right: 0.25em;color: #696969;}#sk-container-id-1 label.sk-toggleable__label-arrow:hover:before {color: black;}#sk-container-id-1 div.sk-estimator:hover label.sk-toggleable__label-arrow:before {color: black;}#sk-container-id-1 div.sk-toggleable__content {max-height: 0;max-width: 0;overflow: hidden;text-align: left;background-color: #f0f8ff;}#sk-container-id-1 div.sk-toggleable__content pre {margin: 0.2em;color: black;border-radius: 0.25em;background-color: #f0f8ff;}#sk-container-id-1 input.sk-toggleable__control:checked~div.sk-toggleable__content {max-height: 200px;max-width: 100%;overflow: auto;}#sk-container-id-1 input.sk-toggleable__control:checked~label.sk-toggleable__label-arrow:before {content: \"▾\";}#sk-container-id-1 div.sk-estimator input.sk-toggleable__control:checked~label.sk-toggleable__label {background-color: #d4ebff;}#sk-container-id-1 div.sk-label input.sk-toggleable__control:checked~label.sk-toggleable__label {background-color: #d4ebff;}#sk-container-id-1 input.sk-hidden--visually {border: 0;clip: rect(1px 1px 1px 1px);clip: rect(1px, 1px, 1px, 1px);height: 1px;margin: -1px;overflow: hidden;padding: 0;position: absolute;width: 1px;}#sk-container-id-1 div.sk-estimator {font-family: monospace;background-color: #f0f8ff;border: 1px dotted black;border-radius: 0.25em;box-sizing: border-box;margin-bottom: 0.5em;}#sk-container-id-1 div.sk-estimator:hover {background-color: #d4ebff;}#sk-container-id-1 div.sk-parallel-item::after {content: \"\";width: 100%;border-bottom: 1px solid gray;flex-grow: 1;}#sk-container-id-1 div.sk-label:hover label.sk-toggleable__label {background-color: #d4ebff;}#sk-container-id-1 div.sk-serial::before {content: \"\";position: absolute;border-left: 1px solid gray;box-sizing: border-box;top: 0;bottom: 0;left: 50%;z-index: 0;}#sk-container-id-1 div.sk-serial {display: flex;flex-direction: column;align-items: center;background-color: white;padding-right: 0.2em;padding-left: 0.2em;position: relative;}#sk-container-id-1 div.sk-item {position: relative;z-index: 1;}#sk-container-id-1 div.sk-parallel {display: flex;align-items: stretch;justify-content: center;background-color: white;position: relative;}#sk-container-id-1 div.sk-item::before, #sk-container-id-1 div.sk-parallel-item::before {content: \"\";position: absolute;border-left: 1px solid gray;box-sizing: border-box;top: 0;bottom: 0;left: 50%;z-index: -1;}#sk-container-id-1 div.sk-parallel-item {display: flex;flex-direction: column;z-index: 1;position: relative;background-color: white;}#sk-container-id-1 div.sk-parallel-item:first-child::after {align-self: flex-end;width: 50%;}#sk-container-id-1 div.sk-parallel-item:last-child::after {align-self: flex-start;width: 50%;}#sk-container-id-1 div.sk-parallel-item:only-child::after {width: 0;}#sk-container-id-1 div.sk-dashed-wrapped {border: 1px dashed gray;margin: 0 0.4em 0.5em 0.4em;box-sizing: border-box;padding-bottom: 0.4em;background-color: white;}#sk-container-id-1 div.sk-label label {font-family: monospace;font-weight: bold;display: inline-block;line-height: 1.2em;}#sk-container-id-1 div.sk-label-container {text-align: center;}#sk-container-id-1 div.sk-container {/* jupyter's `normalize.less` sets `[hidden] { display: none; }` but bootstrap.min.css set `[hidden] { display: none !important; }` so we also need the `!important` here to be able to override the default hidden behavior on the sphinx rendered scikit-learn.org. See: https://github.com/scikit-learn/scikit-learn/issues/21755 */display: inline-block !important;position: relative;}#sk-container-id-1 div.sk-text-repr-fallback {display: none;}</style><div id=\"sk-container-id-1\" class=\"sk-top-container\"><div class=\"sk-text-repr-fallback\"><pre>LogisticRegression()</pre><b>In a Jupyter environment, please rerun this cell to show the HTML representation or trust the notebook. <br />On GitHub, the HTML representation is unable to render, please try loading this page with nbviewer.org.</b></div><div class=\"sk-container\" hidden><div class=\"sk-item\"><div class=\"sk-estimator sk-toggleable\"><input class=\"sk-toggleable__control sk-hidden--visually\" id=\"sk-estimator-id-1\" type=\"checkbox\" checked><label for=\"sk-estimator-id-1\" class=\"sk-toggleable__label sk-toggleable__label-arrow\">LogisticRegression</label><div class=\"sk-toggleable__content\"><pre>LogisticRegression()</pre></div></div></div></div></div>"
      ],
      "text/plain": [
       "LogisticRegression()"
      ]
     },
     "execution_count": 7,
     "metadata": {},
     "output_type": "execute_result"
    }
   ],
   "source": [
    "from sklearn.model_selection import train_test_split\n",
    "x_train,x_test,y_train,y_test = train_test_split(x,y,test_size=0.15)\n",
    "\n",
    "model = LogisticRegression()\n",
    "model.fit(x_train,y_train)"
   ]
  },
  {
   "cell_type": "code",
   "execution_count": 8,
   "id": "a0296565",
   "metadata": {},
   "outputs": [
    {
     "name": "stdout",
     "output_type": "stream",
     "text": [
      "How many house price you want?: 2\n",
      "Enter BEDS: 3\n",
      "Enter BATHS: 3\n",
      "Enter PROPERTYSQFT: 145222\n",
      "Enter BEDS: 4\n",
      "Enter BATHS: 3\n",
      "Enter PROPERTYSQFT: 125800\n",
      "Prices are:  [5827000 5827000]\n"
     ]
    },
    {
     "name": "stderr",
     "output_type": "stream",
     "text": [
      "C:\\Users\\Kanishka\\anaconda3\\lib\\site-packages\\sklearn\\base.py:420: UserWarning: X does not have valid feature names, but LogisticRegression was fitted with feature names\n",
      "  warnings.warn(\n"
     ]
    }
   ],
   "source": [
    "n = int(input(\"How many house price you want?: \"))\n",
    "data = []\n",
    "for i in range(n):\n",
    "    s = int(input(\"Enter BEDS: \"))\n",
    "    t = int(input(\"Enter BATHS: \"))\n",
    "    v = int(input(\"Enter PROPERTYSQFT: \"))\n",
    "    data.append([s,t,v])\n",
    "\n",
    "ans = model.predict(data)\n",
    "print(\"Prices are: \",ans)"
   ]
  },
  {
   "cell_type": "code",
   "execution_count": 9,
   "id": "dbfe727d",
   "metadata": {},
   "outputs": [
    {
     "name": "stdout",
     "output_type": "stream",
     "text": [
      "0.0004901960784313725\n"
     ]
    }
   ],
   "source": [
    "score = model.score(x_train,y_train)\n",
    "print(score)"
   ]
  },
  {
   "cell_type": "code",
   "execution_count": 10,
   "id": "4f16b9ab",
   "metadata": {},
   "outputs": [
    {
     "name": "stdout",
     "output_type": "stream",
     "text": [
      "0.0\n"
     ]
    }
   ],
   "source": [
    "score = model.score(x_test,y_test)\n",
    "print(score)"
   ]
  },
  {
   "cell_type": "code",
   "execution_count": 11,
   "id": "9d7dd4f8",
   "metadata": {},
   "outputs": [
    {
     "data": {
      "text/html": [
       "<style>#sk-container-id-2 {color: black;background-color: white;}#sk-container-id-2 pre{padding: 0;}#sk-container-id-2 div.sk-toggleable {background-color: white;}#sk-container-id-2 label.sk-toggleable__label {cursor: pointer;display: block;width: 100%;margin-bottom: 0;padding: 0.3em;box-sizing: border-box;text-align: center;}#sk-container-id-2 label.sk-toggleable__label-arrow:before {content: \"▸\";float: left;margin-right: 0.25em;color: #696969;}#sk-container-id-2 label.sk-toggleable__label-arrow:hover:before {color: black;}#sk-container-id-2 div.sk-estimator:hover label.sk-toggleable__label-arrow:before {color: black;}#sk-container-id-2 div.sk-toggleable__content {max-height: 0;max-width: 0;overflow: hidden;text-align: left;background-color: #f0f8ff;}#sk-container-id-2 div.sk-toggleable__content pre {margin: 0.2em;color: black;border-radius: 0.25em;background-color: #f0f8ff;}#sk-container-id-2 input.sk-toggleable__control:checked~div.sk-toggleable__content {max-height: 200px;max-width: 100%;overflow: auto;}#sk-container-id-2 input.sk-toggleable__control:checked~label.sk-toggleable__label-arrow:before {content: \"▾\";}#sk-container-id-2 div.sk-estimator input.sk-toggleable__control:checked~label.sk-toggleable__label {background-color: #d4ebff;}#sk-container-id-2 div.sk-label input.sk-toggleable__control:checked~label.sk-toggleable__label {background-color: #d4ebff;}#sk-container-id-2 input.sk-hidden--visually {border: 0;clip: rect(1px 1px 1px 1px);clip: rect(1px, 1px, 1px, 1px);height: 1px;margin: -1px;overflow: hidden;padding: 0;position: absolute;width: 1px;}#sk-container-id-2 div.sk-estimator {font-family: monospace;background-color: #f0f8ff;border: 1px dotted black;border-radius: 0.25em;box-sizing: border-box;margin-bottom: 0.5em;}#sk-container-id-2 div.sk-estimator:hover {background-color: #d4ebff;}#sk-container-id-2 div.sk-parallel-item::after {content: \"\";width: 100%;border-bottom: 1px solid gray;flex-grow: 1;}#sk-container-id-2 div.sk-label:hover label.sk-toggleable__label {background-color: #d4ebff;}#sk-container-id-2 div.sk-serial::before {content: \"\";position: absolute;border-left: 1px solid gray;box-sizing: border-box;top: 0;bottom: 0;left: 50%;z-index: 0;}#sk-container-id-2 div.sk-serial {display: flex;flex-direction: column;align-items: center;background-color: white;padding-right: 0.2em;padding-left: 0.2em;position: relative;}#sk-container-id-2 div.sk-item {position: relative;z-index: 1;}#sk-container-id-2 div.sk-parallel {display: flex;align-items: stretch;justify-content: center;background-color: white;position: relative;}#sk-container-id-2 div.sk-item::before, #sk-container-id-2 div.sk-parallel-item::before {content: \"\";position: absolute;border-left: 1px solid gray;box-sizing: border-box;top: 0;bottom: 0;left: 50%;z-index: -1;}#sk-container-id-2 div.sk-parallel-item {display: flex;flex-direction: column;z-index: 1;position: relative;background-color: white;}#sk-container-id-2 div.sk-parallel-item:first-child::after {align-self: flex-end;width: 50%;}#sk-container-id-2 div.sk-parallel-item:last-child::after {align-self: flex-start;width: 50%;}#sk-container-id-2 div.sk-parallel-item:only-child::after {width: 0;}#sk-container-id-2 div.sk-dashed-wrapped {border: 1px dashed gray;margin: 0 0.4em 0.5em 0.4em;box-sizing: border-box;padding-bottom: 0.4em;background-color: white;}#sk-container-id-2 div.sk-label label {font-family: monospace;font-weight: bold;display: inline-block;line-height: 1.2em;}#sk-container-id-2 div.sk-label-container {text-align: center;}#sk-container-id-2 div.sk-container {/* jupyter's `normalize.less` sets `[hidden] { display: none; }` but bootstrap.min.css set `[hidden] { display: none !important; }` so we also need the `!important` here to be able to override the default hidden behavior on the sphinx rendered scikit-learn.org. See: https://github.com/scikit-learn/scikit-learn/issues/21755 */display: inline-block !important;position: relative;}#sk-container-id-2 div.sk-text-repr-fallback {display: none;}</style><div id=\"sk-container-id-2\" class=\"sk-top-container\"><div class=\"sk-text-repr-fallback\"><pre>Lasso(alpha=25, max_iter=100, tol=0.1)</pre><b>In a Jupyter environment, please rerun this cell to show the HTML representation or trust the notebook. <br />On GitHub, the HTML representation is unable to render, please try loading this page with nbviewer.org.</b></div><div class=\"sk-container\" hidden><div class=\"sk-item\"><div class=\"sk-estimator sk-toggleable\"><input class=\"sk-toggleable__control sk-hidden--visually\" id=\"sk-estimator-id-2\" type=\"checkbox\" checked><label for=\"sk-estimator-id-2\" class=\"sk-toggleable__label sk-toggleable__label-arrow\">Lasso</label><div class=\"sk-toggleable__content\"><pre>Lasso(alpha=25, max_iter=100, tol=0.1)</pre></div></div></div></div></div>"
      ],
      "text/plain": [
       "Lasso(alpha=25, max_iter=100, tol=0.1)"
      ]
     },
     "execution_count": 11,
     "metadata": {},
     "output_type": "execute_result"
    }
   ],
   "source": [
    "from sklearn.linear_model import Lasso\n",
    "ans = Lasso(alpha=25, max_iter=100,tol=0.1)\n",
    "ans.fit(x_train,y_train)"
   ]
  },
  {
   "cell_type": "code",
   "execution_count": 12,
   "id": "f38b8e52",
   "metadata": {},
   "outputs": [
    {
     "name": "stdout",
     "output_type": "stream",
     "text": [
      "0.013189157073953739\n"
     ]
    }
   ],
   "source": [
    "score = ans.score(x_train,y_train)\n",
    "print(score)"
   ]
  },
  {
   "cell_type": "code",
   "execution_count": null,
   "id": "e1b6c990",
   "metadata": {},
   "outputs": [],
   "source": [
    "pd.crosstab(df['PROPERTYSQFT'],df['PRICE']).plot(kind='bar')"
   ]
  },
  {
   "cell_type": "code",
   "execution_count": null,
   "id": "65e81444",
   "metadata": {},
   "outputs": [],
   "source": []
  }
 ],
 "metadata": {
  "kernelspec": {
   "display_name": "Python 3 (ipykernel)",
   "language": "python",
   "name": "python3"
  },
  "language_info": {
   "codemirror_mode": {
    "name": "ipython",
    "version": 3
   },
   "file_extension": ".py",
   "mimetype": "text/x-python",
   "name": "python",
   "nbconvert_exporter": "python",
   "pygments_lexer": "ipython3",
   "version": "3.10.9"
  }
 },
 "nbformat": 4,
 "nbformat_minor": 5
}
