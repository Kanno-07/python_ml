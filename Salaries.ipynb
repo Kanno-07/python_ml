{
 "cells": [
  {
   "cell_type": "code",
   "execution_count": 20,
   "id": "efc1f094",
   "metadata": {},
   "outputs": [
    {
     "name": "stdout",
     "output_type": "stream",
     "text": [
      "       company                  job     degree  salary_more_then_100k\n",
      "0       google      sales executive  bachelors                      0\n",
      "1       google      sales executive    masters                      0\n",
      "2       google     business manager  bachelors                      1\n",
      "3       google     business manager    masters                      1\n",
      "4       google  computer programmer  bachelors                      0\n",
      "5       google  computer programmer    masters                      1\n",
      "6   abc pharma      sales executive    masters                      0\n",
      "7   abc pharma  computer programmer  bachelors                      0\n",
      "8   abc pharma     business manager  bachelors                      0\n",
      "9   abc pharma     business manager    masters                      1\n",
      "10    facebook      sales executive  bachelors                      1\n",
      "11    facebook      sales executive    masters                      1\n",
      "12    facebook     business manager  bachelors                      1\n",
      "13    facebook     business manager    masters                      1\n",
      "14    facebook  computer programmer  bachelors                      1\n",
      "15    facebook  computer programmer    masters                      1\n"
     ]
    }
   ],
   "source": [
    "from matplotlib import pyplot as plt\n",
    "import pandas as pd\n",
    "from sklearn.linear_model import LogisticRegression\n",
    "df = pd.read_csv('salaries.csv')\n",
    "print(df.to_string())"
   ]
  },
  {
   "cell_type": "code",
   "execution_count": 14,
   "id": "5bee31bc",
   "metadata": {},
   "outputs": [
    {
     "name": "stdout",
     "output_type": "stream",
     "text": [
      "    salary_more_then_100k  company_abc pharma  company_facebook  \\\n",
      "0                       0                   0                 0   \n",
      "1                       0                   0                 0   \n",
      "2                       1                   0                 0   \n",
      "3                       1                   0                 0   \n",
      "4                       0                   0                 0   \n",
      "5                       1                   0                 0   \n",
      "6                       0                   1                 0   \n",
      "7                       0                   1                 0   \n",
      "8                       0                   1                 0   \n",
      "9                       1                   1                 0   \n",
      "10                      1                   0                 1   \n",
      "11                      1                   0                 1   \n",
      "12                      1                   0                 1   \n",
      "13                      1                   0                 1   \n",
      "14                      1                   0                 1   \n",
      "15                      1                   0                 1   \n",
      "\n",
      "    company_google  job_business manager  job_computer programmer  \\\n",
      "0                1                     0                        0   \n",
      "1                1                     0                        0   \n",
      "2                1                     1                        0   \n",
      "3                1                     1                        0   \n",
      "4                1                     0                        1   \n",
      "5                1                     0                        1   \n",
      "6                0                     0                        0   \n",
      "7                0                     0                        1   \n",
      "8                0                     1                        0   \n",
      "9                0                     1                        0   \n",
      "10               0                     0                        0   \n",
      "11               0                     0                        0   \n",
      "12               0                     1                        0   \n",
      "13               0                     1                        0   \n",
      "14               0                     0                        1   \n",
      "15               0                     0                        1   \n",
      "\n",
      "    job_sales executive  degree_bachelors  degree_masters  \n",
      "0                     1                 1               0  \n",
      "1                     1                 0               1  \n",
      "2                     0                 1               0  \n",
      "3                     0                 0               1  \n",
      "4                     0                 1               0  \n",
      "5                     0                 0               1  \n",
      "6                     1                 0               1  \n",
      "7                     0                 1               0  \n",
      "8                     0                 1               0  \n",
      "9                     0                 0               1  \n",
      "10                    1                 1               0  \n",
      "11                    1                 0               1  \n",
      "12                    0                 1               0  \n",
      "13                    0                 0               1  \n",
      "14                    0                 1               0  \n",
      "15                    0                 0               1  \n"
     ]
    }
   ],
   "source": [
    "df = pd.get_dummies(df,dtype='int')\n",
    "print(df)"
   ]
  },
  {
   "cell_type": "code",
   "execution_count": 15,
   "id": "9d175443",
   "metadata": {},
   "outputs": [
    {
     "name": "stdout",
     "output_type": "stream",
     "text": [
      "    company_abc pharma  company_facebook  company_google  \\\n",
      "0                    0                 0               1   \n",
      "1                    0                 0               1   \n",
      "2                    0                 0               1   \n",
      "3                    0                 0               1   \n",
      "4                    0                 0               1   \n",
      "5                    0                 0               1   \n",
      "6                    1                 0               0   \n",
      "7                    1                 0               0   \n",
      "8                    1                 0               0   \n",
      "9                    1                 0               0   \n",
      "10                   0                 1               0   \n",
      "11                   0                 1               0   \n",
      "12                   0                 1               0   \n",
      "13                   0                 1               0   \n",
      "14                   0                 1               0   \n",
      "15                   0                 1               0   \n",
      "\n",
      "    job_business manager  job_computer programmer  job_sales executive  \\\n",
      "0                      0                        0                    1   \n",
      "1                      0                        0                    1   \n",
      "2                      1                        0                    0   \n",
      "3                      1                        0                    0   \n",
      "4                      0                        1                    0   \n",
      "5                      0                        1                    0   \n",
      "6                      0                        0                    1   \n",
      "7                      0                        1                    0   \n",
      "8                      1                        0                    0   \n",
      "9                      1                        0                    0   \n",
      "10                     0                        0                    1   \n",
      "11                     0                        0                    1   \n",
      "12                     1                        0                    0   \n",
      "13                     1                        0                    0   \n",
      "14                     0                        1                    0   \n",
      "15                     0                        1                    0   \n",
      "\n",
      "    degree_bachelors  degree_masters  \n",
      "0                  1               0  \n",
      "1                  0               1  \n",
      "2                  1               0  \n",
      "3                  0               1  \n",
      "4                  1               0  \n",
      "5                  0               1  \n",
      "6                  0               1  \n",
      "7                  1               0  \n",
      "8                  1               0  \n",
      "9                  0               1  \n",
      "10                 1               0  \n",
      "11                 0               1  \n",
      "12                 1               0  \n",
      "13                 0               1  \n",
      "14                 1               0  \n",
      "15                 0               1  \n",
      "0     0\n",
      "1     0\n",
      "2     1\n",
      "3     1\n",
      "4     0\n",
      "5     1\n",
      "6     0\n",
      "7     0\n",
      "8     0\n",
      "9     1\n",
      "10    1\n",
      "11    1\n",
      "12    1\n",
      "13    1\n",
      "14    1\n",
      "15    1\n",
      "Name: salary_more_then_100k, dtype: int64\n"
     ]
    }
   ],
   "source": [
    "x = df.drop(columns = 'salary_more_then_100k')\n",
    "y = df['salary_more_then_100k']\n",
    "print(x)\n",
    "print(y)"
   ]
  },
  {
   "cell_type": "code",
   "execution_count": 16,
   "id": "81388da2",
   "metadata": {},
   "outputs": [
    {
     "data": {
      "text/html": [
       "<style>#sk-container-id-1 {color: black;background-color: white;}#sk-container-id-1 pre{padding: 0;}#sk-container-id-1 div.sk-toggleable {background-color: white;}#sk-container-id-1 label.sk-toggleable__label {cursor: pointer;display: block;width: 100%;margin-bottom: 0;padding: 0.3em;box-sizing: border-box;text-align: center;}#sk-container-id-1 label.sk-toggleable__label-arrow:before {content: \"▸\";float: left;margin-right: 0.25em;color: #696969;}#sk-container-id-1 label.sk-toggleable__label-arrow:hover:before {color: black;}#sk-container-id-1 div.sk-estimator:hover label.sk-toggleable__label-arrow:before {color: black;}#sk-container-id-1 div.sk-toggleable__content {max-height: 0;max-width: 0;overflow: hidden;text-align: left;background-color: #f0f8ff;}#sk-container-id-1 div.sk-toggleable__content pre {margin: 0.2em;color: black;border-radius: 0.25em;background-color: #f0f8ff;}#sk-container-id-1 input.sk-toggleable__control:checked~div.sk-toggleable__content {max-height: 200px;max-width: 100%;overflow: auto;}#sk-container-id-1 input.sk-toggleable__control:checked~label.sk-toggleable__label-arrow:before {content: \"▾\";}#sk-container-id-1 div.sk-estimator input.sk-toggleable__control:checked~label.sk-toggleable__label {background-color: #d4ebff;}#sk-container-id-1 div.sk-label input.sk-toggleable__control:checked~label.sk-toggleable__label {background-color: #d4ebff;}#sk-container-id-1 input.sk-hidden--visually {border: 0;clip: rect(1px 1px 1px 1px);clip: rect(1px, 1px, 1px, 1px);height: 1px;margin: -1px;overflow: hidden;padding: 0;position: absolute;width: 1px;}#sk-container-id-1 div.sk-estimator {font-family: monospace;background-color: #f0f8ff;border: 1px dotted black;border-radius: 0.25em;box-sizing: border-box;margin-bottom: 0.5em;}#sk-container-id-1 div.sk-estimator:hover {background-color: #d4ebff;}#sk-container-id-1 div.sk-parallel-item::after {content: \"\";width: 100%;border-bottom: 1px solid gray;flex-grow: 1;}#sk-container-id-1 div.sk-label:hover label.sk-toggleable__label {background-color: #d4ebff;}#sk-container-id-1 div.sk-serial::before {content: \"\";position: absolute;border-left: 1px solid gray;box-sizing: border-box;top: 0;bottom: 0;left: 50%;z-index: 0;}#sk-container-id-1 div.sk-serial {display: flex;flex-direction: column;align-items: center;background-color: white;padding-right: 0.2em;padding-left: 0.2em;position: relative;}#sk-container-id-1 div.sk-item {position: relative;z-index: 1;}#sk-container-id-1 div.sk-parallel {display: flex;align-items: stretch;justify-content: center;background-color: white;position: relative;}#sk-container-id-1 div.sk-item::before, #sk-container-id-1 div.sk-parallel-item::before {content: \"\";position: absolute;border-left: 1px solid gray;box-sizing: border-box;top: 0;bottom: 0;left: 50%;z-index: -1;}#sk-container-id-1 div.sk-parallel-item {display: flex;flex-direction: column;z-index: 1;position: relative;background-color: white;}#sk-container-id-1 div.sk-parallel-item:first-child::after {align-self: flex-end;width: 50%;}#sk-container-id-1 div.sk-parallel-item:last-child::after {align-self: flex-start;width: 50%;}#sk-container-id-1 div.sk-parallel-item:only-child::after {width: 0;}#sk-container-id-1 div.sk-dashed-wrapped {border: 1px dashed gray;margin: 0 0.4em 0.5em 0.4em;box-sizing: border-box;padding-bottom: 0.4em;background-color: white;}#sk-container-id-1 div.sk-label label {font-family: monospace;font-weight: bold;display: inline-block;line-height: 1.2em;}#sk-container-id-1 div.sk-label-container {text-align: center;}#sk-container-id-1 div.sk-container {/* jupyter's `normalize.less` sets `[hidden] { display: none; }` but bootstrap.min.css set `[hidden] { display: none !important; }` so we also need the `!important` here to be able to override the default hidden behavior on the sphinx rendered scikit-learn.org. See: https://github.com/scikit-learn/scikit-learn/issues/21755 */display: inline-block !important;position: relative;}#sk-container-id-1 div.sk-text-repr-fallback {display: none;}</style><div id=\"sk-container-id-1\" class=\"sk-top-container\"><div class=\"sk-text-repr-fallback\"><pre>LogisticRegression()</pre><b>In a Jupyter environment, please rerun this cell to show the HTML representation or trust the notebook. <br />On GitHub, the HTML representation is unable to render, please try loading this page with nbviewer.org.</b></div><div class=\"sk-container\" hidden><div class=\"sk-item\"><div class=\"sk-estimator sk-toggleable\"><input class=\"sk-toggleable__control sk-hidden--visually\" id=\"sk-estimator-id-1\" type=\"checkbox\" checked><label for=\"sk-estimator-id-1\" class=\"sk-toggleable__label sk-toggleable__label-arrow\">LogisticRegression</label><div class=\"sk-toggleable__content\"><pre>LogisticRegression()</pre></div></div></div></div></div>"
      ],
      "text/plain": [
       "LogisticRegression()"
      ]
     },
     "execution_count": 16,
     "metadata": {},
     "output_type": "execute_result"
    }
   ],
   "source": [
    "model = LogisticRegression()\n",
    "model.fit(x,y)"
   ]
  },
  {
   "cell_type": "code",
   "execution_count": 17,
   "id": "11c6b5b5",
   "metadata": {},
   "outputs": [
    {
     "name": "stdout",
     "output_type": "stream",
     "text": [
      "[1]\n"
     ]
    },
    {
     "name": "stderr",
     "output_type": "stream",
     "text": [
      "C:\\Users\\Kanishka\\anaconda3\\lib\\site-packages\\sklearn\\base.py:420: UserWarning: X does not have valid feature names, but LogisticRegression was fitted with feature names\n",
      "  warnings.warn(\n"
     ]
    }
   ],
   "source": [
    "ans = model.predict([[0,0,1,0,1,0,1,1]])\n",
    "print(ans)"
   ]
  },
  {
   "cell_type": "code",
   "execution_count": 19,
   "id": "98f22af3",
   "metadata": {},
   "outputs": [
    {
     "name": "stdout",
     "output_type": "stream",
     "text": [
      "0.9375\n"
     ]
    }
   ],
   "source": [
    "score = model.score(x,y)\n",
    "print(score)"
   ]
  },
  {
   "cell_type": "code",
   "execution_count": 26,
   "id": "cea730c2",
   "metadata": {},
   "outputs": [
    {
     "data": {
      "text/plain": [
       "Index(['company', 'job', 'degree', 'salary_more_then_100k'], dtype='object')"
      ]
     },
     "execution_count": 26,
     "metadata": {},
     "output_type": "execute_result"
    }
   ],
   "source": [
    "df.columns"
   ]
  },
  {
   "cell_type": "code",
   "execution_count": 27,
   "id": "7ffc35c5",
   "metadata": {},
   "outputs": [
    {
     "data": {
      "text/plain": [
       "<Axes: xlabel='company'>"
      ]
     },
     "execution_count": 27,
     "metadata": {},
     "output_type": "execute_result"
    },
    {
     "data": {
      "image/png": "[encoded data removed]",
      "text/plain": [
       "<Figure size 640x480 with 1 Axes>"
      ]
     },
     "metadata": {},
     "output_type": "display_data"
    }
   ],
   "source": [
    "pd.crosstab(df['company'],df['salary_more_then_100k']).plot(kind='bar')"
   ]
  },
  {
   "cell_type": "code",
   "execution_count": null,
   "id": "68816db5",
   "metadata": {},
   "outputs": [],
   "source": []
  }
 ],
 "metadata": {
  "kernelspec": {
   "display_name": "Python 3 (ipykernel)",
   "language": "python",
   "name": "python3"
  },
  "language_info": {
   "codemirror_mode": {
    "name": "ipython",
    "version": 3
   },
   "file_extension": ".py",
   "mimetype": "text/x-python",
   "name": "python",
   "nbconvert_exporter": "python",
   "pygments_lexer": "ipython3",
   "version": "3.10.9"
  }
 },
 "nbformat": 4,
 "nbformat_minor": 5
}
